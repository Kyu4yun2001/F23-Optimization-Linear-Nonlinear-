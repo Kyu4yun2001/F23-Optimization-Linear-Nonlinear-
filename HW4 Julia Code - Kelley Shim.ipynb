{
 "cells": [
  {
   "cell_type": "code",
   "execution_count": 1,
   "id": "375ef5a1",
   "metadata": {},
   "outputs": [],
   "source": [
    "using Printf\n",
    "Q = [5 -1; -1 2];\n",
    "b = [1;1];\n",
    "\n",
    "tol = 1e-10;\n",
    "MaxIter = 1e4;"
   ]
  },
  {
   "cell_type": "code",
   "execution_count": 2,
   "id": "04021fea",
   "metadata": {},
   "outputs": [
    {
     "data": {
      "text/plain": [
       "DF (generic function with 1 method)"
      ]
     },
     "execution_count": 2,
     "metadata": {},
     "output_type": "execute_result"
    }
   ],
   "source": [
    "# define function\n",
    "function F(x)\n",
    "   val = 0.5*x'*Q*x - b'*x + 1\n",
    "   return val\n",
    "end\n",
    "\n",
    "# define gradient\n",
    "function DF(x)\n",
    "   grad = Q*x-b;\n",
    "   return grad\n",
    "end"
   ]
  },
  {
   "cell_type": "code",
   "execution_count": 3,
   "id": "5dc3f657",
   "metadata": {},
   "outputs": [
    {
     "data": {
      "text/plain": [
       "SteepestDescent (generic function with 1 method)"
      ]
     },
     "execution_count": 3,
     "metadata": {},
     "output_type": "execute_result"
    }
   ],
   "source": [
    "function SteepestDescent(x0,alpha)\n",
    "\n",
    "   # setup for steepest descent\n",
    "   x = x0;\n",
    "   successflag = false;\n",
    "\n",
    "   # perform steepest descent iterations\n",
    "   for iter = 1:MaxIter\n",
    "       Fval = F(x);\n",
    "       Fgrad = DF(x);\n",
    "       if sqrt(Fgrad'*Fgrad) < tol\n",
    "          @printf(\"Converged after %d iterations, function value %f\\n\", iter, Fval)\n",
    "          successflag = true;\n",
    "          break;\n",
    "       end\n",
    "       # perform steepest descent step\n",
    "       x = x - alpha*Fgrad;\n",
    "\n",
    "   end\n",
    "   if successflag == false\n",
    "       @printf(\"Failed to converge after %d iterations, function value %f\\n\", MaxIter, F(x))\n",
    "   end\n",
    "   return x;\n",
    "end"
   ]
  },
  {
   "cell_type": "code",
   "execution_count": 4,
   "id": "acba5ab6",
   "metadata": {},
   "outputs": [
    {
     "name": "stdout",
     "output_type": "stream",
     "text": [
      "alpha: 0.01\n",
      "Converged after 1411 iterations, function value 0.500000\n",
      "alpha: 0.05\n",
      "Converged after 273 iterations, function value 0.500000\n",
      "alpha: 0.1\n",
      "Converged after 131 iterations, function value 0.500000\n",
      "alpha: 0.5\n",
      "Failed to converge after 10000 iterations, function value NaN\n"
     ]
    }
   ],
   "source": [
    "# Q4A\n",
    "x0 = [2;2];\n",
    "q4a_alpha = [0.01, 0.05, 0.1,0.5];\n",
    "\n",
    "for alpha in q4a_alpha\n",
    "    print(\"alpha: \", alpha, \"\\n\")\n",
    "    x = SteepestDescent(x0,alpha);\n",
    "end"
   ]
  },
  {
   "cell_type": "code",
   "execution_count": 5,
   "id": "c44a9a89",
   "metadata": {},
   "outputs": [
    {
     "data": {
      "text/plain": [
       "2-element Vector{Float64}:\n",
       " 1.6972243622680054\n",
       " 5.302775637731995"
      ]
     },
     "execution_count": 5,
     "metadata": {},
     "output_type": "execute_result"
    }
   ],
   "source": [
    "# 4B\n",
    "using LinearAlgebra\n",
    "Q_eig = eigvals(Q);\n",
    "Q_eig"
   ]
  },
  {
   "cell_type": "code",
   "execution_count": 14,
   "id": "cc1779dd",
   "metadata": {},
   "outputs": [
    {
     "data": {
      "text/plain": [
       "SteepestDescentOptStep (generic function with 1 method)"
      ]
     },
     "execution_count": 14,
     "metadata": {},
     "output_type": "execute_result"
    }
   ],
   "source": [
    "function SteepestDescentOptStep(x0)\n",
    "    # setup for steepest descent\n",
    "    x = x0\n",
    "    successflag = false\n",
    "    \n",
    "    # perform steepest descent iterations\n",
    "    for iter = 1:MaxIter\n",
    "        Fval = F(x)\n",
    "        Fgrad = DF(x)\n",
    "        \n",
    "        if sqrt(transpose(Fgrad) * Fgrad) < tol\n",
    "            @printf(\"Converged after %d iterations, function value %f\\n\", iter, Fval)\n",
    "            successflag = true\n",
    "            break\n",
    "        end\n",
    "        \n",
    "        # Finding Optimal Step\n",
    "        opt_step = (transpose(Fgrad) * Fgrad) / (transpose(Fgrad) * Q * Fgrad)\n",
    "        \n",
    "        # perform steepest descent step\n",
    "        x = x - opt_step * Fgrad\n",
    "    end\n",
    "    \n",
    "    if successflag == false\n",
    "        @printf(\"Failed to converge after %d iterations, function value %f\\n\", MaxIter, F(x))\n",
    "    end\n",
    "    \n",
    "    return x\n",
    "end"
   ]
  },
  {
   "cell_type": "code",
   "execution_count": 15,
   "id": "f273307b",
   "metadata": {},
   "outputs": [
    {
     "name": "stdout",
     "output_type": "stream",
     "text": [
      "Converged after 30 iterations, function value 0.500000\n"
     ]
    },
    {
     "data": {
      "text/plain": [
       "2-element Vector{Float64}:\n",
       " 0.3333333333373737\n",
       " 0.6666666666941405"
      ]
     },
     "execution_count": 15,
     "metadata": {},
     "output_type": "execute_result"
    }
   ],
   "source": [
    "# 4C\n",
    "x0 = [2; 2]\n",
    "x = SteepestDescentOptStep(x0)"
   ]
  },
  {
   "cell_type": "code",
   "execution_count": 8,
   "id": "c4af1d1e",
   "metadata": {},
   "outputs": [
    {
     "data": {
      "text/plain": [
       "SteepestDescentArmijo (generic function with 1 method)"
      ]
     },
     "execution_count": 8,
     "metadata": {},
     "output_type": "execute_result"
    }
   ],
   "source": [
    "function SteepestDescentArmijo(x0, c1)\n",
    "\n",
    "   # parameters for Armijo's rule\n",
    "   alpha0 = 5;    # initial value of alpha, to try in backtracking\n",
    "   eta = 0.5;       # factor with which to scale alpha, each time you backtrack\n",
    "   MaxBacktrack = 20;  # maximum number of backtracking steps\n",
    "\n",
    "   # setup for steepest descent\n",
    "   x = x0;\n",
    "   successflag = false;   \n",
    "\n",
    "   # perform steepest descent iterations\n",
    "   for iter = 1:MaxIter\n",
    "\n",
    "      alpha = alpha0;\n",
    "      Fval = F(x);\n",
    "      Fgrad = DF(x);\n",
    "\n",
    "      # check if norm of gradient is small enough\n",
    "      if sqrt(Fgrad'*Fgrad) < tol\n",
    "         @printf(\"Converged after %d iterations, function value %f\\n\", iter, Fval)\n",
    "         successflag = true;\n",
    "         break;\n",
    "      end\n",
    "\n",
    "      # perform line search\n",
    "      for k = 1:MaxBacktrack\n",
    "         x_try = x - alpha*Fgrad;\n",
    "         Fval_try = F(x_try);\n",
    "         if (Fval_try > Fval - c1* alpha * Fgrad' * Fgrad)\n",
    "            alpha = alpha * eta;\n",
    "         else\n",
    "            Fval = Fval_try;\n",
    "            x = x_try;\n",
    "            break;\n",
    "         end\n",
    "      end\n",
    "\n",
    "      # print how we're doing, every 10000 iterations \n",
    "        #(I modified it so that I could take a screenshot of the code for when it doesn't converge)\n",
    "      if (iter%10000==0)\n",
    "         @printf(\"iter: %d: alpha: %f, %f, %f, %f\\n\", iter, alpha, x[1], x[2], Fval)\n",
    "      end\n",
    "   end\n",
    "\n",
    "   if successflag == false\n",
    "       @printf(\"Failed to converge after %d iterations, function value %f\\n\", MaxIter, F(x))\n",
    "   end\n",
    "\n",
    "   return x;\n",
    "end"
   ]
  },
  {
   "cell_type": "code",
   "execution_count": 9,
   "id": "b0b8b5d1",
   "metadata": {
    "scrolled": false
   },
   "outputs": [
    {
     "name": "stdout",
     "output_type": "stream",
     "text": [
      "c1: 1.0e-5\n",
      "Converged after 69 iterations, function value 0.500000\n",
      "c1: 0.0001\n",
      "Converged after 69 iterations, function value 0.500000\n",
      "c1: 0.001\n",
      "Converged after 69 iterations, function value 0.500000\n",
      "c1: 0.01\n",
      "Converged after 69 iterations, function value 0.500000\n",
      "c1: 0.1\n",
      "Converged after 69 iterations, function value 0.500000\n",
      "c1: 0.2\n",
      "iter: 10000: alpha: 0.000005, 0.333333, 0.666667, 0.500000\n",
      "Failed to converge after 10000 iterations, function value 0.500000\n"
     ]
    }
   ],
   "source": [
    "#4D\n",
    "x0 = [2;2];\n",
    "Q4d_c_list = [1e-5, 1e-4, 1e-3, 1e-2, 1e-1, 0.2]\n",
    "\n",
    "for c1 in Q4d_c_list\n",
    "    print(\"c1: \", c1, \"\\n\")\n",
    "    y = SteepestDescentArmijo(x0, c1);\n",
    "end"
   ]
  },
  {
   "cell_type": "markdown",
   "id": "1c5eeffc",
   "metadata": {},
   "source": [
    "## Question 5 - Rosebrock Function"
   ]
  },
  {
   "cell_type": "code",
   "execution_count": 10,
   "id": "85efce4c",
   "metadata": {},
   "outputs": [
    {
     "data": {
      "text/plain": [
       "RB_SteepestDescent (generic function with 1 method)"
      ]
     },
     "execution_count": 10,
     "metadata": {},
     "output_type": "execute_result"
    }
   ],
   "source": [
    "# Set up Parameters\n",
    "tol = 1e-10\n",
    "MaxIter = 1e5\n",
    "\n",
    "# define Rosenbrock Function\n",
    "function rb_F(x)\n",
    "    a = x[1]\n",
    "    b = x[2]\n",
    "    val = 100 * (b - a^2)^2 + (1 - a)^2\n",
    "    return val\n",
    "end\n",
    "\n",
    "# define gradient of Rosenbrock\n",
    "function rb_DF(x)\n",
    "    a = x[1]\n",
    "    b = x[2]\n",
    "    \n",
    "    df_da = -400 * a * (b - a^2) - 2 * (1 - a)\n",
    "    df_db = 200 * (b - a^2)\n",
    "    \n",
    "    grad = [df_da, df_db]\n",
    "    return grad\n",
    "end\n",
    "\n",
    "# Steepest Descent Algorithm\n",
    "\n",
    "function RB_SteepestDescent(x0,alpha)\n",
    "    \n",
    "    x = x0\n",
    "    successflag = false  # Define successflag\n",
    "\n",
    "    for iter = 1:MaxIter\n",
    "        Fval = rb_F(x)\n",
    "        Fgrad = rb_DF(x)\n",
    "        if sqrt(transpose(Fgrad) * Fgrad) < tol\n",
    "            @printf(\"Converged after %d iterations, function value %f\\n\", iter, Fval)\n",
    "            successflag = true\n",
    "            break\n",
    "        end\n",
    "        # perform steepest descent step\n",
    "        x = x - alpha * Fgrad\n",
    "    end\n",
    "\n",
    "    if !successflag\n",
    "        @printf(\"Failed to converge after %d iterations, function value %f\\n\", MaxIter, rb_F(x))\n",
    "    end\n",
    "    \n",
    "    return x;\n",
    "end "
   ]
  },
  {
   "cell_type": "code",
   "execution_count": 11,
   "id": "f383c1ff",
   "metadata": {},
   "outputs": [
    {
     "name": "stdout",
     "output_type": "stream",
     "text": [
      "Alpha = 1.0e-5\n",
      "Failed to converge after 100000 iterations, function value 0.140645\n",
      "Alpha = 0.0005\n",
      "Failed to converge after 100000 iterations, function value 0.000000\n",
      "Alpha = 0.0009\n",
      "Converged after 62405 iterations, function value 0.000000\n",
      "Alpha = 0.001\n",
      "Converged after 55332 iterations, function value 0.000000\n",
      "Alpha = 0.0011\n",
      "Converged after 48713 iterations, function value 0.000000\n",
      "Alpha = 0.002\n",
      "Failed to converge after 100000 iterations, function value NaN\n",
      "Alpha = 0.01\n",
      "Failed to converge after 100000 iterations, function value NaN\n",
      "Alpha = 0.1\n",
      "Failed to converge after 100000 iterations, function value NaN\n"
     ]
    }
   ],
   "source": [
    "x0 = [2.0; 2.0]\n",
    "Q5_alpha = [0.00001, 0.0005, 0.0009, 0.001, 0.0011,0.002, 0.01, 0.1]\n",
    "\n",
    "for alpha in Q5_alpha\n",
    "    print(\"Alpha = \", alpha, \"\\n\")\n",
    "    x = RB_SteepestDescent(x0,alpha);\n",
    "end"
   ]
  },
  {
   "cell_type": "code",
   "execution_count": 12,
   "id": "fd08b3ab",
   "metadata": {},
   "outputs": [
    {
     "data": {
      "text/plain": [
       "RB_SteepestDescentArmijo (generic function with 1 method)"
      ]
     },
     "execution_count": 12,
     "metadata": {},
     "output_type": "execute_result"
    }
   ],
   "source": [
    "# Set up Parameters\n",
    "tol = 1e-10\n",
    "MaxIter = 1e5\n",
    "\n",
    "# Steepest Descent Algorithm with Armijo's rule for step size\n",
    "function RB_SteepestDescentArmijo(x0, c1)\n",
    "    x = x0\n",
    "    successflag = false  # Define successflag\n",
    "    \n",
    "    # parameters for Armijo's rule\n",
    "    alpha0 = 1.0  # initial value of alpha, can be adjusted\n",
    "    eta = 0.5     # factor with which to scale alpha, each time you backtrack\n",
    "    MaxBacktrack = 20  # maximum number of backtracking steps\n",
    "\n",
    "    for iter = 1:MaxIter\n",
    "        Fval = rb_F(x)\n",
    "        Fgrad = rb_DF(x)\n",
    "        \n",
    "        # check if norm of gradient is small enough\n",
    "        if sqrt(transpose(Fgrad) * Fgrad) < tol\n",
    "            @printf(\"Converged after %d iterations, function value %f\\n\", iter, Fval)\n",
    "            successflag = true\n",
    "            break\n",
    "        end\n",
    "\n",
    "        alpha = alpha0\n",
    "        # perform backtracking line search (Armijo rule)\n",
    "        for k = 1:MaxBacktrack\n",
    "            x_try = x - alpha * Fgrad\n",
    "            Fval_try = rb_F(x_try)\n",
    "            if Fval_try <= Fval - c1 * alpha * transpose(Fgrad) * Fgrad\n",
    "                x = x_try\n",
    "                break\n",
    "            else\n",
    "                alpha = alpha * eta\n",
    "            end\n",
    "        end\n",
    "\n",
    "        # print how we're doing, every 10 iterations\n",
    "        # Note: I turned this section off so that I could actually see the results\n",
    "        #if iter % 10 == 0\n",
    "        #    @printf(\"iter: %d: alpha: %f, %f, %f, %f\\n\", iter, alpha, x[1], x[2], Fval)\n",
    "        #end\n",
    "    end\n",
    "\n",
    "    if !successflag\n",
    "        @printf(\"Failed to converge after %d iterations, function value %f\\n\", MaxIter, rb_F(x))\n",
    "    end\n",
    "    \n",
    "    return x\n",
    "end\n"
   ]
  },
  {
   "cell_type": "code",
   "execution_count": 13,
   "id": "307247b3",
   "metadata": {},
   "outputs": [
    {
     "name": "stdout",
     "output_type": "stream",
     "text": [
      "c1: 1.0e-5\n",
      "Converged after 29013 iterations, function value 0.000000\n",
      "c1: 0.001\n",
      "Converged after 28940 iterations, function value 0.000000\n",
      "c1: 0.1\n",
      "Converged after 25863 iterations, function value 0.000000\n"
     ]
    }
   ],
   "source": [
    "# 5B\n",
    "x0 = [2.0;2.0];\n",
    "Q5b_c_list = [1e-5, 1e-3, 1e-1]\n",
    "\n",
    "for c1 in Q5b_c_list\n",
    "    print(\"c1: \", c1, \"\\n\")\n",
    "    y = RB_SteepestDescentArmijo(x0, c1);\n",
    "end"
   ]
  }
 ],
 "metadata": {
  "kernelspec": {
   "display_name": "Julia 1.9.3",
   "language": "julia",
   "name": "julia-1.9"
  },
  "language_info": {
   "file_extension": ".jl",
   "mimetype": "application/julia",
   "name": "julia",
   "version": "1.9.3"
  }
 },
 "nbformat": 4,
 "nbformat_minor": 5
}
